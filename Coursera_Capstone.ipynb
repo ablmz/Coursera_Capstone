{
    "cells": [
        {
            "cell_type": "markdown",
            "metadata": {},
            "source": "# Capstone Project\nThis is the Coursera Data Science Capstone Project. This is the 9. and last of the 9-Parts Data Science Specialization Path.\n\n#### 1. Data Wrangling\n#### 2."
        },
        {
            "cell_type": "markdown",
            "metadata": {},
            "source": "Firstly we download the necessary  Libraries"
        },
        {
            "cell_type": "code",
            "execution_count": 131,
            "metadata": {
                "scrolled": true
            },
            "outputs": [
                {
                    "name": "stdout",
                    "output_type": "stream",
                    "text": "Requirement already satisfied: geopy in /opt/conda/envs/Python-3.7-main/lib/python3.7/site-packages (2.0.0)\nRequirement already satisfied: geographiclib<2,>=1.49 in /opt/conda/envs/Python-3.7-main/lib/python3.7/site-packages (from geopy) (1.50)\nRequirement already satisfied: geocoder in /opt/conda/envs/Python-3.7-main/lib/python3.7/site-packages (1.38.1)\nRequirement already satisfied: ratelim in /opt/conda/envs/Python-3.7-main/lib/python3.7/site-packages (from geocoder) (0.1.6)\nRequirement already satisfied: click in /opt/conda/envs/Python-3.7-main/lib/python3.7/site-packages (from geocoder) (7.1.2)\nRequirement already satisfied: six in /opt/conda/envs/Python-3.7-main/lib/python3.7/site-packages (from geocoder) (1.15.0)\nRequirement already satisfied: requests in /opt/conda/envs/Python-3.7-main/lib/python3.7/site-packages (from geocoder) (2.24.0)\nRequirement already satisfied: future in /opt/conda/envs/Python-3.7-main/lib/python3.7/site-packages (from geocoder) (0.18.2)\nRequirement already satisfied: decorator in /opt/conda/envs/Python-3.7-main/lib/python3.7/site-packages (from ratelim->geocoder) (4.4.2)\nRequirement already satisfied: idna<3,>=2.5 in /opt/conda/envs/Python-3.7-main/lib/python3.7/site-packages (from requests->geocoder) (2.9)\nRequirement already satisfied: certifi>=2017.4.17 in /opt/conda/envs/Python-3.7-main/lib/python3.7/site-packages (from requests->geocoder) (2020.12.5)\nRequirement already satisfied: chardet<4,>=3.0.2 in /opt/conda/envs/Python-3.7-main/lib/python3.7/site-packages (from requests->geocoder) (3.0.4)\nRequirement already satisfied: urllib3!=1.25.0,!=1.25.1,<1.26,>=1.21.1 in /opt/conda/envs/Python-3.7-main/lib/python3.7/site-packages (from requests->geocoder) (1.25.9)\nRequirement already satisfied: folium in /opt/conda/envs/Python-3.7-main/lib/python3.7/site-packages (0.11.0)\nRequirement already satisfied: jinja2>=2.9 in /opt/conda/envs/Python-3.7-main/lib/python3.7/site-packages (from folium) (2.11.2)\nRequirement already satisfied: branca>=0.3.0 in /opt/conda/envs/Python-3.7-main/lib/python3.7/site-packages (from folium) (0.4.2)\nRequirement already satisfied: requests in /opt/conda/envs/Python-3.7-main/lib/python3.7/site-packages (from folium) (2.24.0)\nRequirement already satisfied: numpy in /opt/conda/envs/Python-3.7-main/lib/python3.7/site-packages (from folium) (1.18.5)\nRequirement already satisfied: MarkupSafe>=0.23 in /opt/conda/envs/Python-3.7-main/lib/python3.7/site-packages (from jinja2>=2.9->folium) (1.1.1)\nRequirement already satisfied: certifi>=2017.4.17 in /opt/conda/envs/Python-3.7-main/lib/python3.7/site-packages (from requests->folium) (2020.12.5)\nRequirement already satisfied: idna<3,>=2.5 in /opt/conda/envs/Python-3.7-main/lib/python3.7/site-packages (from requests->folium) (2.9)\nRequirement already satisfied: urllib3!=1.25.0,!=1.25.1,<1.26,>=1.21.1 in /opt/conda/envs/Python-3.7-main/lib/python3.7/site-packages (from requests->folium) (1.25.9)\nRequirement already satisfied: chardet<4,>=3.0.2 in /opt/conda/envs/Python-3.7-main/lib/python3.7/site-packages (from requests->folium) (3.0.4)\nAll libraries imported.\n"
                }
            ],
            "source": "!pip install geopy\n!pip install geocoder\n!pip install folium\n\nimport numpy as np\nimport pandas as pd\nimport json\nfrom geopy.geocoders import Nominatim\nimport geocoder\nimport requests\nimport matplotlib.cm as cm\nimport matplotlib.colors as colors\nfrom sklearn.cluster import KMeans\nimport folium\nimport matplotlib.pyplot as plt\nimport seaborn as sns\nfrom pandas.io.json import json_normalize\nfrom sklearn.metrics import silhouette_score\n\n%matplotlib notebook\n\nprint('All libraries imported.')"
        },
        {
            "cell_type": "markdown",
            "metadata": {},
            "source": "We build the code to scrape the following Wikipedia page; https://en.wikipedia.org/wiki/List_of_postal_codes_of_Canada:_M,\nin order to obtain the data that we will work on.<p>\nList of postal codes of Canada: M"
        },
        {
            "cell_type": "code",
            "execution_count": 133,
            "metadata": {},
            "outputs": [
                {
                    "data": {
                        "text/plain": "3"
                    },
                    "execution_count": 133,
                    "metadata": {},
                    "output_type": "execute_result"
                }
            ],
            "source": "url = 'https://en.wikipedia.org/wiki/List_of_postal_codes_of_Canada:_M'\ndf = pd.read_html(url)\n\nlen(df)"
        },
        {
            "cell_type": "markdown",
            "metadata": {},
            "source": "0. Index is our dataframe and the dataframe is consist of three columns: PostalCode, Borough, and Neighborhood"
        },
        {
            "cell_type": "code",
            "execution_count": 134,
            "metadata": {
                "scrolled": false
            },
            "outputs": [
                {
                    "data": {
                        "text/html": "<div>\n<style scoped>\n    .dataframe tbody tr th:only-of-type {\n        vertical-align: middle;\n    }\n\n    .dataframe tbody tr th {\n        vertical-align: top;\n    }\n\n    .dataframe thead th {\n        text-align: right;\n    }\n</style>\n<table border=\"1\" class=\"dataframe\">\n  <thead>\n    <tr style=\"text-align: right;\">\n      <th></th>\n      <th>Postal Code</th>\n      <th>Borough</th>\n      <th>Neighbourhood</th>\n    </tr>\n  </thead>\n  <tbody>\n    <tr>\n      <th>175</th>\n      <td>M5Z</td>\n      <td>Not assigned</td>\n      <td>Not assigned</td>\n    </tr>\n    <tr>\n      <th>176</th>\n      <td>M6Z</td>\n      <td>Not assigned</td>\n      <td>Not assigned</td>\n    </tr>\n    <tr>\n      <th>177</th>\n      <td>M7Z</td>\n      <td>Not assigned</td>\n      <td>Not assigned</td>\n    </tr>\n    <tr>\n      <th>178</th>\n      <td>M8Z</td>\n      <td>Etobicoke</td>\n      <td>Mimico NW, The Queensway West, South of Bloor,...</td>\n    </tr>\n    <tr>\n      <th>179</th>\n      <td>M9Z</td>\n      <td>Not assigned</td>\n      <td>Not assigned</td>\n    </tr>\n  </tbody>\n</table>\n</div>",
                        "text/plain": "    Postal Code       Borough  \\\n175         M5Z  Not assigned   \n176         M6Z  Not assigned   \n177         M7Z  Not assigned   \n178         M8Z     Etobicoke   \n179         M9Z  Not assigned   \n\n                                         Neighbourhood  \n175                                       Not assigned  \n176                                       Not assigned  \n177                                       Not assigned  \n178  Mimico NW, The Queensway West, South of Bloor,...  \n179                                       Not assigned  "
                    },
                    "execution_count": 134,
                    "metadata": {},
                    "output_type": "execute_result"
                }
            ],
            "source": "df1=df[0]\ndf1.tail()"
        },
        {
            "cell_type": "markdown",
            "metadata": {},
            "source": "In our Dataframe there are more than one neighborhood can exist in one postal code area.\nFor example, we can easily notice that M5A is listed twice and has two neighborhoods:\nHarbourfront and Regent Park."
        },
        {
            "cell_type": "markdown",
            "metadata": {},
            "source": "If a cell has a borough but a Not assigned  neighborhood, then the neighborhood will be the same as the borough."
        },
        {
            "cell_type": "code",
            "execution_count": 136,
            "metadata": {},
            "outputs": [
                {
                    "data": {
                        "text/html": "<div>\n<style scoped>\n    .dataframe tbody tr th:only-of-type {\n        vertical-align: middle;\n    }\n\n    .dataframe tbody tr th {\n        vertical-align: top;\n    }\n\n    .dataframe thead th {\n        text-align: right;\n    }\n</style>\n<table border=\"1\" class=\"dataframe\">\n  <thead>\n    <tr style=\"text-align: right;\">\n      <th></th>\n      <th>Postal Code</th>\n      <th>Borough</th>\n      <th>Neighbourhood</th>\n    </tr>\n  </thead>\n  <tbody>\n    <tr>\n      <th>0</th>\n      <td>M1A</td>\n      <td>Not assigned</td>\n      <td>Not assigned</td>\n    </tr>\n    <tr>\n      <th>1</th>\n      <td>M2A</td>\n      <td>Not assigned</td>\n      <td>Not assigned</td>\n    </tr>\n    <tr>\n      <th>2</th>\n      <td>M3A</td>\n      <td>North York</td>\n      <td>Parkwoods</td>\n    </tr>\n    <tr>\n      <th>3</th>\n      <td>M4A</td>\n      <td>North York</td>\n      <td>Victoria Village</td>\n    </tr>\n    <tr>\n      <th>4</th>\n      <td>M5A</td>\n      <td>Downtown Toronto</td>\n      <td>Regent Park, Harbourfront</td>\n    </tr>\n    <tr>\n      <th>...</th>\n      <td>...</td>\n      <td>...</td>\n      <td>...</td>\n    </tr>\n    <tr>\n      <th>175</th>\n      <td>M5Z</td>\n      <td>Not assigned</td>\n      <td>Not assigned</td>\n    </tr>\n    <tr>\n      <th>176</th>\n      <td>M6Z</td>\n      <td>Not assigned</td>\n      <td>Not assigned</td>\n    </tr>\n    <tr>\n      <th>177</th>\n      <td>M7Z</td>\n      <td>Not assigned</td>\n      <td>Not assigned</td>\n    </tr>\n    <tr>\n      <th>178</th>\n      <td>M8Z</td>\n      <td>Etobicoke</td>\n      <td>Mimico NW, The Queensway West, South of Bloor,...</td>\n    </tr>\n    <tr>\n      <th>179</th>\n      <td>M9Z</td>\n      <td>Not assigned</td>\n      <td>Not assigned</td>\n    </tr>\n  </tbody>\n</table>\n<p>180 rows \u00d7 3 columns</p>\n</div>",
                        "text/plain": "    Postal Code           Borough  \\\n0           M1A      Not assigned   \n1           M2A      Not assigned   \n2           M3A        North York   \n3           M4A        North York   \n4           M5A  Downtown Toronto   \n..          ...               ...   \n175         M5Z      Not assigned   \n176         M6Z      Not assigned   \n177         M7Z      Not assigned   \n178         M8Z         Etobicoke   \n179         M9Z      Not assigned   \n\n                                         Neighbourhood  \n0                                         Not assigned  \n1                                         Not assigned  \n2                                            Parkwoods  \n3                                     Victoria Village  \n4                            Regent Park, Harbourfront  \n..                                                 ...  \n175                                       Not assigned  \n176                                       Not assigned  \n177                                       Not assigned  \n178  Mimico NW, The Queensway West, South of Bloor,...  \n179                                       Not assigned  \n\n[180 rows x 3 columns]"
                    },
                    "execution_count": 136,
                    "metadata": {},
                    "output_type": "execute_result"
                }
            ],
            "source": "df1.loc[df1['Neighbourhood'] == \"Not assigned\", ['Neighbourhood']] = df1['Borough']\n\n#df1.loc[(df1.Neighbourhood == 'Not assigned'),'Neighbourhood']=df1.Borough\ndf1"
        },
        {
            "cell_type": "code",
            "execution_count": 137,
            "metadata": {},
            "outputs": [
                {
                    "data": {
                        "text/html": "<div>\n<style scoped>\n    .dataframe tbody tr th:only-of-type {\n        vertical-align: middle;\n    }\n\n    .dataframe tbody tr th {\n        vertical-align: top;\n    }\n\n    .dataframe thead th {\n        text-align: right;\n    }\n</style>\n<table border=\"1\" class=\"dataframe\">\n  <thead>\n    <tr style=\"text-align: right;\">\n      <th></th>\n      <th>Postal Code</th>\n      <th>Borough</th>\n      <th>Neighbourhood</th>\n    </tr>\n  </thead>\n  <tbody>\n    <tr>\n      <th>0</th>\n      <td>M1A</td>\n      <td>Not assigned</td>\n      <td>Not assigned</td>\n    </tr>\n    <tr>\n      <th>1</th>\n      <td>M2A</td>\n      <td>Not assigned</td>\n      <td>Not assigned</td>\n    </tr>\n    <tr>\n      <th>2</th>\n      <td>M3A</td>\n      <td>North York</td>\n      <td>Parkwoods</td>\n    </tr>\n    <tr>\n      <th>3</th>\n      <td>M4A</td>\n      <td>North York</td>\n      <td>Victoria Village</td>\n    </tr>\n    <tr>\n      <th>4</th>\n      <td>M5A</td>\n      <td>Downtown Toronto</td>\n      <td>Regent Park, Harbourfront</td>\n    </tr>\n  </tbody>\n</table>\n</div>",
                        "text/plain": "  Postal Code           Borough              Neighbourhood\n0         M1A      Not assigned               Not assigned\n1         M2A      Not assigned               Not assigned\n2         M3A        North York                  Parkwoods\n3         M4A        North York           Victoria Village\n4         M5A  Downtown Toronto  Regent Park, Harbourfront"
                    },
                    "execution_count": 137,
                    "metadata": {},
                    "output_type": "execute_result"
                }
            ],
            "source": "for index, row in df1.iterrows():\n    if df1.loc[index, \"Neighbourhood\"] == \"Not assigned\" :\n        df1.loc[index, \"Neighbourhood\"] = df1.loc[index, \"Borough\"]\n\ndf1.head()"
        },
        {
            "cell_type": "code",
            "execution_count": 130,
            "metadata": {
                "scrolled": false
            },
            "outputs": [
                {
                    "data": {
                        "text/plain": "(180, 3)"
                    },
                    "execution_count": 130,
                    "metadata": {},
                    "output_type": "execute_result"
                }
            ],
            "source": "df1.shape"
        },
        {
            "cell_type": "markdown",
            "metadata": {},
            "source": "We read csv Coordinate values like Latitude and Longitude from url"
        },
        {
            "cell_type": "code",
            "execution_count": 141,
            "metadata": {
                "scrolled": true
            },
            "outputs": [
                {
                    "data": {
                        "text/html": "<div>\n<style scoped>\n    .dataframe tbody tr th:only-of-type {\n        vertical-align: middle;\n    }\n\n    .dataframe tbody tr th {\n        vertical-align: top;\n    }\n\n    .dataframe thead th {\n        text-align: right;\n    }\n</style>\n<table border=\"1\" class=\"dataframe\">\n  <thead>\n    <tr style=\"text-align: right;\">\n      <th></th>\n      <th>Postal Code</th>\n      <th>Latitude</th>\n      <th>Longitude</th>\n    </tr>\n  </thead>\n  <tbody>\n    <tr>\n      <th>0</th>\n      <td>M1B</td>\n      <td>43.806686</td>\n      <td>-79.194353</td>\n    </tr>\n    <tr>\n      <th>1</th>\n      <td>M1C</td>\n      <td>43.784535</td>\n      <td>-79.160497</td>\n    </tr>\n    <tr>\n      <th>2</th>\n      <td>M1E</td>\n      <td>43.763573</td>\n      <td>-79.188711</td>\n    </tr>\n    <tr>\n      <th>3</th>\n      <td>M1G</td>\n      <td>43.770992</td>\n      <td>-79.216917</td>\n    </tr>\n    <tr>\n      <th>4</th>\n      <td>M1H</td>\n      <td>43.773136</td>\n      <td>-79.239476</td>\n    </tr>\n  </tbody>\n</table>\n</div>",
                        "text/plain": "  Postal Code   Latitude  Longitude\n0         M1B  43.806686 -79.194353\n1         M1C  43.784535 -79.160497\n2         M1E  43.763573 -79.188711\n3         M1G  43.770992 -79.216917\n4         M1H  43.773136 -79.239476"
                    },
                    "execution_count": 141,
                    "metadata": {},
                    "output_type": "execute_result"
                }
            ],
            "source": "dfc=pd.read_csv(\"http://cocl.us/Geospatial_data\")\n\ndfc.head()"
        },
        {
            "cell_type": "markdown",
            "metadata": {},
            "source": "Then we merge two dataframe List of postal codes of Canada as df1 and Coordinates as dfc "
        },
        {
            "cell_type": "code",
            "execution_count": 143,
            "metadata": {},
            "outputs": [
                {
                    "data": {
                        "text/html": "<div>\n<style scoped>\n    .dataframe tbody tr th:only-of-type {\n        vertical-align: middle;\n    }\n\n    .dataframe tbody tr th {\n        vertical-align: top;\n    }\n\n    .dataframe thead th {\n        text-align: right;\n    }\n</style>\n<table border=\"1\" class=\"dataframe\">\n  <thead>\n    <tr style=\"text-align: right;\">\n      <th></th>\n      <th>Postal Code</th>\n      <th>Borough</th>\n      <th>Neighbourhood</th>\n      <th>Latitude</th>\n      <th>Longitude</th>\n    </tr>\n  </thead>\n  <tbody>\n    <tr>\n      <th>0</th>\n      <td>M3A</td>\n      <td>North York</td>\n      <td>Parkwoods</td>\n      <td>43.753259</td>\n      <td>-79.329656</td>\n    </tr>\n    <tr>\n      <th>1</th>\n      <td>M4A</td>\n      <td>North York</td>\n      <td>Victoria Village</td>\n      <td>43.725882</td>\n      <td>-79.315572</td>\n    </tr>\n    <tr>\n      <th>2</th>\n      <td>M5A</td>\n      <td>Downtown Toronto</td>\n      <td>Regent Park, Harbourfront</td>\n      <td>43.654260</td>\n      <td>-79.360636</td>\n    </tr>\n    <tr>\n      <th>3</th>\n      <td>M6A</td>\n      <td>North York</td>\n      <td>Lawrence Manor, Lawrence Heights</td>\n      <td>43.718518</td>\n      <td>-79.464763</td>\n    </tr>\n    <tr>\n      <th>4</th>\n      <td>M7A</td>\n      <td>Downtown Toronto</td>\n      <td>Queen's Park, Ontario Provincial Government</td>\n      <td>43.662301</td>\n      <td>-79.389494</td>\n    </tr>\n    <tr>\n      <th>...</th>\n      <td>...</td>\n      <td>...</td>\n      <td>...</td>\n      <td>...</td>\n      <td>...</td>\n    </tr>\n    <tr>\n      <th>98</th>\n      <td>M8X</td>\n      <td>Etobicoke</td>\n      <td>The Kingsway, Montgomery Road, Old Mill North</td>\n      <td>43.653654</td>\n      <td>-79.506944</td>\n    </tr>\n    <tr>\n      <th>99</th>\n      <td>M4Y</td>\n      <td>Downtown Toronto</td>\n      <td>Church and Wellesley</td>\n      <td>43.665860</td>\n      <td>-79.383160</td>\n    </tr>\n    <tr>\n      <th>100</th>\n      <td>M7Y</td>\n      <td>East Toronto</td>\n      <td>Business reply mail Processing Centre, South C...</td>\n      <td>43.662744</td>\n      <td>-79.321558</td>\n    </tr>\n    <tr>\n      <th>101</th>\n      <td>M8Y</td>\n      <td>Etobicoke</td>\n      <td>Old Mill South, King's Mill Park, Sunnylea, Hu...</td>\n      <td>43.636258</td>\n      <td>-79.498509</td>\n    </tr>\n    <tr>\n      <th>102</th>\n      <td>M8Z</td>\n      <td>Etobicoke</td>\n      <td>Mimico NW, The Queensway West, South of Bloor,...</td>\n      <td>43.628841</td>\n      <td>-79.520999</td>\n    </tr>\n  </tbody>\n</table>\n<p>103 rows \u00d7 5 columns</p>\n</div>",
                        "text/plain": "    Postal Code           Borough  \\\n0           M3A        North York   \n1           M4A        North York   \n2           M5A  Downtown Toronto   \n3           M6A        North York   \n4           M7A  Downtown Toronto   \n..          ...               ...   \n98          M8X         Etobicoke   \n99          M4Y  Downtown Toronto   \n100         M7Y      East Toronto   \n101         M8Y         Etobicoke   \n102         M8Z         Etobicoke   \n\n                                         Neighbourhood   Latitude  Longitude  \n0                                            Parkwoods  43.753259 -79.329656  \n1                                     Victoria Village  43.725882 -79.315572  \n2                            Regent Park, Harbourfront  43.654260 -79.360636  \n3                     Lawrence Manor, Lawrence Heights  43.718518 -79.464763  \n4          Queen's Park, Ontario Provincial Government  43.662301 -79.389494  \n..                                                 ...        ...        ...  \n98       The Kingsway, Montgomery Road, Old Mill North  43.653654 -79.506944  \n99                                Church and Wellesley  43.665860 -79.383160  \n100  Business reply mail Processing Centre, South C...  43.662744 -79.321558  \n101  Old Mill South, King's Mill Park, Sunnylea, Hu...  43.636258 -79.498509  \n102  Mimico NW, The Queensway West, South of Bloor,...  43.628841 -79.520999  \n\n[103 rows x 5 columns]"
                    },
                    "execution_count": 143,
                    "metadata": {},
                    "output_type": "execute_result"
                }
            ],
            "source": "dfm = pd.merge(df1, dfc, on=\"Postal Code\")\ndfm"
        },
        {
            "cell_type": "code",
            "execution_count": null,
            "metadata": {},
            "outputs": [],
            "source": ""
        }
    ],
    "metadata": {
        "kernelspec": {
            "display_name": "Python 3.7",
            "language": "python",
            "name": "python3"
        },
        "language_info": {
            "codemirror_mode": {
                "name": "ipython",
                "version": 3
            },
            "file_extension": ".py",
            "mimetype": "text/x-python",
            "name": "python",
            "nbconvert_exporter": "python",
            "pygments_lexer": "ipython3",
            "version": "3.7.9"
        }
    },
    "nbformat": 4,
    "nbformat_minor": 1
}